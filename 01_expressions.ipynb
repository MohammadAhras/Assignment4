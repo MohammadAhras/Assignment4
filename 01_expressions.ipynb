{
  "nbformat": 4,
  "nbformat_minor": 0,
  "metadata": {
    "colab": {
      "provenance": [],
      "authorship_tag": "ABX9TyPkR1UwQNlbq+nmsTPxyM3b",
      "include_colab_link": true
    },
    "kernelspec": {
      "name": "python3",
      "display_name": "Python 3"
    },
    "language_info": {
      "name": "python"
    }
  },
  "cells": [
    {
      "cell_type": "markdown",
      "metadata": {
        "id": "view-in-github",
        "colab_type": "text"
      },
      "source": [
        "<a href=\"https://colab.research.google.com/github/MohammadAhras/Assignment4/blob/main/01_expressions.ipynb\" target=\"_parent\"><img src=\"https://colab.research.google.com/assets/colab-badge.svg\" alt=\"Open In Colab\"/></a>"
      ]
    },
    {
      "cell_type": "code",
      "source": [
        "import random\n",
        "print(\"01_dicesimulator\")\n",
        "\n",
        "def roll_dice():\n",
        "  die1: int = random.randint(1,6)\n",
        "  die2: int = random.randint(1,6)\n",
        "  total:int = die1 + die2\n",
        "  print(f'Total of two dies: {total}')\n",
        "\n",
        "def main():\n",
        "  die1:int =10\n",
        "  print(\"die1 in main() start as:\" + str(die1))\n",
        "  roll_dice()\n",
        "  roll_dice()\n",
        "  roll_dice()\n",
        "  print(\"die1 in main() is: \" + str(die1))\n",
        "\n",
        "if __name__ == \"__main__\":\n",
        "  main()"
      ],
      "metadata": {
        "colab": {
          "base_uri": "https://localhost:8080/"
        },
        "collapsed": true,
        "id": "HdrxMjtvQp6n",
        "outputId": "01097dd7-5553-4849-827c-045d3b636739"
      },
      "execution_count": 7,
      "outputs": [
        {
          "output_type": "stream",
          "name": "stdout",
          "text": [
            "01_dicesimulator\n",
            "die1 in main() start as :10\n",
            "Total of two dies: 7\n",
            "Total of two dies: 6\n",
            "Total of two dies: 10\n",
            "die1 in main() is: 10\n"
          ]
        }
      ]
    },
    {
      "cell_type": "code",
      "source": [
        "print(\"02_e=mc2\")\n",
        "\n",
        "def energy():\n",
        "  c:float = 299792458\n",
        "  m:float =float(input(\"Enter kilos of mass: \"))\n",
        "  print(\"e=m*c^2\")\n",
        "  print(\"Mass = \" + str(m) + \" kg\")\n",
        "  print(\"C= \"+ str(c) + \" m/s\")\n",
        "  print(\"e = \" + str(m* c ** 2) + \" Jules\")\n",
        "\n",
        "if __name__ == \"__main__\":\n",
        "  energy()\n"
      ],
      "metadata": {
        "colab": {
          "base_uri": "https://localhost:8080/"
        },
        "id": "q6dRx9TbT_Ds",
        "outputId": "34358ee3-135d-4181-beda-8c9bbd5524df"
      },
      "execution_count": 15,
      "outputs": [
        {
          "output_type": "stream",
          "name": "stdout",
          "text": [
            "02_e=mc2\n",
            "Enter kilos of mass: 70\n",
            "e=m*c^2\n",
            "Mass = 70.0 kg\n",
            "C= 299792458 m/s\n",
            "e = 6.291286251157723e+18 Jules\n"
          ]
        }
      ]
    },
    {
      "cell_type": "code",
      "source": [
        "print(\"03_feet_to_inches\")\n",
        "\n",
        "inch:int =12\n",
        "\n",
        "def foot():\n",
        "  feet:int =int(input(\"Enter Your Feet and i will convert into inches. \"))\n",
        "  print(f\"There are {inch * feet} inches in {feet} feet. \")\n",
        "\n",
        "if __name__ == \"__main__\":\n",
        "  foot()"
      ],
      "metadata": {
        "colab": {
          "base_uri": "https://localhost:8080/"
        },
        "id": "f08FJqwkXUbr",
        "outputId": "45b7a44c-53a1-4078-cea6-3484b57471fe"
      },
      "execution_count": 19,
      "outputs": [
        {
          "output_type": "stream",
          "name": "stdout",
          "text": [
            "03_feet_to_inches\n",
            "Enter Your Feet and i will convert into inches. 66\n",
            "There are 792 inches in 66 feet. \n"
          ]
        }
      ]
    },
    {
      "cell_type": "code",
      "source": [
        "import math\n",
        "\n",
        "print(\"04_pythagorean_theorem\")\n",
        "\n",
        "def triangle():\n",
        "  ab:float = float(input(\"Enter the length of side ab: \"))\n",
        "  ac:float = float(input(\"Enter the Length of side ac: \"))\n",
        "  bc:float = math.sqrt(ab ** 2 + ac**2)\n",
        "  print(f\"The Length of bc (the hypothenuse is: {bc})\")\n",
        "\n",
        "if __name__ == \"__main__\":\n",
        "  triangle()"
      ],
      "metadata": {
        "colab": {
          "base_uri": "https://localhost:8080/"
        },
        "id": "ay8pr8ADY4HY",
        "outputId": "1ab1f676-395e-4671-ba03-459e417217cd"
      },
      "execution_count": 21,
      "outputs": [
        {
          "output_type": "stream",
          "name": "stdout",
          "text": [
            "04_pythagorean_theorem\n",
            "Enter the length of side ab: 4.9\n",
            "Enter the Length of side ac: 4.5\n",
            "The Length of bc (the hypothenuse is: 6.652818951391959)\n"
          ]
        }
      ]
    },
    {
      "cell_type": "code",
      "source": [
        "print(\"05_remainder_division\")\n",
        "\n",
        "def remainder():\n",
        "  num1:int = int(input(\"Enter an integer number to be divided by: \"))\n",
        "  num2:int = int(input(\"Enter an integer number to be divided by: \"))\n",
        "  print(f\"{num1} divided by {num2} is {num1 // num2} with a remainder of {num1 % num2} \")\n",
        "\n",
        "if __name__ == \"__main__\":\n",
        "  remainder()\n",
        ""
      ],
      "metadata": {
        "colab": {
          "base_uri": "https://localhost:8080/"
        },
        "id": "UQXIgjBubBYX",
        "outputId": "f7c46c21-89a8-4d65-f147-55c33345cb66"
      },
      "execution_count": 26,
      "outputs": [
        {
          "output_type": "stream",
          "name": "stdout",
          "text": [
            "05_remainder_division\n",
            "Enter an integer number to be divided by: 56\n",
            "Enter an integer number to be divided by: 3\n",
            "56 divided by 3 is 18 with a remainder of 2 \n"
          ]
        }
      ]
    },
    {
      "cell_type": "code",
      "source": [
        "import random\n",
        "print(\"06_rolldice\")\n",
        "\n",
        "def dice():\n",
        "  die1:int= random.randint(1,6)\n",
        "  die2:int= random.randint(1,6)\n",
        "  total:int = int(die1 + die2)\n",
        "  print(\"first die: \"+ str(die1))\n",
        "  print(\"second die: \"+ str(die2))\n",
        "  print(f\"Total of two dice is: {total}\" )\n",
        "\n",
        "if __name__ == \"__main__\":\n",
        "  dice()"
      ],
      "metadata": {
        "colab": {
          "base_uri": "https://localhost:8080/"
        },
        "id": "FQojEPy6dadm",
        "outputId": "4f95bd53-1a8d-4827-83cd-40f7c223673b"
      },
      "execution_count": 32,
      "outputs": [
        {
          "output_type": "stream",
          "name": "stdout",
          "text": [
            "06_rolldice\n",
            "first die: 5\n",
            "second die: 1\n",
            "Total of two dice is: 6\n"
          ]
        }
      ]
    },
    {
      "cell_type": "code",
      "source": [
        "print(\"06_seconds_in_year\")\n",
        "\n",
        "# Useful constants to help make the math easier and cleaner!\n",
        "DAYS_PER_YEAR:int = 365\n",
        "HOURS_PER_DAY:int = 24\n",
        "MIN_PER_HOUR:int = 60\n",
        "SEC_PER_MIN:int = 60\n",
        "\n",
        "def seconds():\n",
        "  print(f\"There are {DAYS_PER_YEAR * HOURS_PER_DAY * MIN_PER_HOUR * SEC_PER_MIN} Seconds in a Year!\")\n",
        "\n",
        "if __name__ == \"__main__\":\n",
        "  seconds()"
      ],
      "metadata": {
        "colab": {
          "base_uri": "https://localhost:8080/"
        },
        "id": "LZW8Fs2wgPDC",
        "outputId": "7fed7e9c-dc46-427a-cf1c-34f865a4fe2f"
      },
      "execution_count": 36,
      "outputs": [
        {
          "output_type": "stream",
          "name": "stdout",
          "text": [
            "06_seconds_in_year\n",
            "There are 31536000 Seconds in a Year!\n"
          ]
        }
      ]
    },
    {
      "cell_type": "code",
      "source": [
        "print(\"07_tiny_mad_lib\")\n",
        "\n",
        "def mad_lib():\n",
        "  noun:str = str(input(\"Enter a noun \"))\n",
        "  adjective:str = str(input(\"Enter an adjective \"))\n",
        "  verb:str = str(input(\"Enter a verb \"))\n",
        "  print(f\"Do you {verb} your {adjective} {noun}? That\\'s Hillarious! \")\n",
        "\n",
        "if __name__ == \"__main__\":\n",
        "  mad_lib()"
      ],
      "metadata": {
        "colab": {
          "base_uri": "https://localhost:8080/"
        },
        "id": "07mtEu1vh5ZM",
        "outputId": "30a9f984-f3ab-4597-9a2c-e33eb48007e7"
      },
      "execution_count": 40,
      "outputs": [
        {
          "output_type": "stream",
          "name": "stdout",
          "text": [
            "07_tiny_mad_lib\n",
            "Enter a noun cat\n",
            "Enter an adjective cute\n",
            "Enter a verb sleep\n",
            "Do you sleep your cute cat? That's Hillarious! \n"
          ]
        }
      ]
    }
  ]
}