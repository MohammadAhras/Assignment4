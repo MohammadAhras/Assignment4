{
  "nbformat": 4,
  "nbformat_minor": 0,
  "metadata": {
    "colab": {
      "provenance": [],
      "authorship_tag": "ABX9TyPTuURtxKq+SIj3N/60PInn",
      "include_colab_link": true
    },
    "kernelspec": {
      "name": "python3",
      "display_name": "Python 3"
    },
    "language_info": {
      "name": "python"
    }
  },
  "cells": [
    {
      "cell_type": "markdown",
      "metadata": {
        "id": "view-in-github",
        "colab_type": "text"
      },
      "source": [
        "<a href=\"https://colab.research.google.com/github/MohammadAhras/Giaic-Q3_projects/blob/main/00_intro_python.ipynb\" target=\"_parent\"><img src=\"https://colab.research.google.com/assets/colab-badge.svg\" alt=\"Open In Colab\"/></a>"
      ]
    },
    {
      "cell_type": "code",
      "execution_count": null,
      "metadata": {
        "colab": {
          "base_uri": "https://localhost:8080/"
        },
        "id": "jtlPMHIh0Kp2",
        "outputId": "a8853248-319f-4cd5-81be-7754175dc4f4"
      },
      "outputs": [
        {
          "output_type": "stream",
          "name": "stdout",
          "text": [
            "01_add_two_numbers\n",
            "This Application For Adding Two Numbers\n",
            "Enter your First Number: 3\n",
            "Enter your Second Number: 7\n",
            "The total sum of 3 and 7 is 10\n"
          ]
        }
      ],
      "source": [
        "print(\"01_add_two_numbers\")\n",
        "\n",
        "def add():\n",
        "    print(\"This Application For Adding Two Numbers\")\n",
        "    try:\n",
        "        first_number = int(input(\"Enter your First Number: \"))\n",
        "        second_number = int(input(\"Enter your Second Number: \"))\n",
        "        total = first_number + second_number\n",
        "        print(f'The total sum of {first_number} and {second_number} is {total}')\n",
        "    except ValueError:\n",
        "        print(\"Please enter valid integers!\")\n",
        "\n",
        "if __name__ == \"__main__\":\n",
        "    add()\n",
        "\n"
      ]
    },
    {
      "cell_type": "code",
      "source": [
        "print(\"02_agreement_bot \")\n",
        "\n",
        "def bot():\n",
        "    animal = str(input(\"what their favorite animal is \"))\n",
        "    print(f'My Favourite Animal is also {animal}!')\n",
        "\n",
        "if __name__ == \"__main__\":\n",
        "    bot()\n",
        "\n"
      ],
      "metadata": {
        "colab": {
          "base_uri": "https://localhost:8080/"
        },
        "id": "9yYTV95uAr2W",
        "outputId": "185bba72-27d6-4bcb-bbe9-cb559daffb63"
      },
      "execution_count": null,
      "outputs": [
        {
          "output_type": "stream",
          "name": "stdout",
          "text": [
            "02_agreement_bot \n",
            "what their favorite animal is Goat\n",
            "My Favourite Animal is also Goat!\n"
          ]
        }
      ]
    },
    {
      "cell_type": "code",
      "source": [
        "print(\"03_fahrenheit_to_celsius\")\n",
        "\n",
        "def temp():\n",
        "  print(\"This Program is Converting to Fahrenheit to celsius Temprature\")\n",
        "  Fahrenheit_degree = float(input(\"Enter your Fahrenheit Degree \"))\n",
        "  celsius = (Fahrenheit_degree - 32) * 5.0/9.0\n",
        "  print(f'Temprature is {Fahrenheit_degree}F = {celsius}')\n",
        "\n",
        "if __name__ == \"__main__\":\n",
        "  temp()\n"
      ],
      "metadata": {
        "colab": {
          "base_uri": "https://localhost:8080/"
        },
        "id": "2LURLSIIErd1",
        "outputId": "3104df6e-c547-48d6-c116-52065743ae78"
      },
      "execution_count": null,
      "outputs": [
        {
          "output_type": "stream",
          "name": "stdout",
          "text": [
            "03_fahrenheit_to_celsius\n",
            "This Program is Converting to Fahrenheit to celsius Temprature\n",
            "Enter your Fahrenheit Degree 54\n",
            "Temprature is 54.0F = 12.222222222222221\n"
          ]
        }
      ]
    },
    {
      "cell_type": "code",
      "source": [
        "print(\"04_how_old_are_they\")\n",
        "\n",
        "def age():\n",
        "  anton: int = 21\n",
        "  beth: int = anton + 6\n",
        "  chen: int = beth + 20\n",
        "  drew: int = chen + anton\n",
        "  ethan:int = chen\n",
        "\n",
        "  print(\"Anton is \" + str(anton))\n",
        "  print(\"Beth is \" + str(beth))\n",
        "  print(\"Chen is \" + str(chen))\n",
        "  print(\"drew is \" + str(drew))\n",
        "  print(\"Ethan is \" + str(ethan))\n",
        "\n",
        "if __name__ == \"__main__\":\n",
        "  age()"
      ],
      "metadata": {
        "colab": {
          "base_uri": "https://localhost:8080/"
        },
        "id": "N3b92nD1HhKy",
        "outputId": "83652f70-6e86-4beb-f5e3-503f7d45193c"
      },
      "execution_count": null,
      "outputs": [
        {
          "output_type": "stream",
          "name": "stdout",
          "text": [
            "04_how_old_are_they\n",
            "Anton is 21\n",
            "Beth is 27\n",
            "Chen is 47\n",
            "drew is 68\n",
            "Ethan is 47\n"
          ]
        }
      ]
    },
    {
      "cell_type": "code",
      "source": [
        "print(\"05_triangle_perimeter\")\n",
        "\n",
        "def triangle():\n",
        "  print(\"This code is about sum of triangle sides\")\n",
        "  side1:float = float(input(\"Enter Your first side no of triangle is. \"))\n",
        "  side2:float = float(input(\"Enter Your Second side no of triangle is. \"))\n",
        "  side3:float = float(input(\"Enter Your Third side no of triangle is. \"))\n",
        "  total:float = float(side1 + side2 + side3)\n",
        "  print(f\"The Perimeter of triangle is {total} \")\n",
        "\n",
        "if __name__ == \"__main__\":\n",
        "  triangle()\n"
      ],
      "metadata": {
        "colab": {
          "base_uri": "https://localhost:8080/"
        },
        "id": "8bZ7GkFFMS6i",
        "outputId": "d98fa396-466e-4010-ed6f-15076edc84d5"
      },
      "execution_count": null,
      "outputs": [
        {
          "output_type": "stream",
          "name": "stdout",
          "text": [
            "05_triangle_perimeter\n",
            "This code is about sum of triangle sides\n",
            "Enter Your first side no of triangle is. 4.5\n",
            "Enter Your Second side no of triangle is. 4\n",
            "Enter Your Third side no of triangle is. 2.5\n",
            "The Perimeter of triangle is 11.0 \n"
          ]
        }
      ]
    },
    {
      "cell_type": "code",
      "source": [
        "print(\"06_square_number\")\n",
        "\n",
        "def square():\n",
        "  num:int = int(input(\"Enter any Number and i will give you a Square Value \"))\n",
        "  print(f\"The square of {num} is {num ** 2} \")\n",
        "\n",
        "if __name__ == \"__main__\":\n",
        "  square()"
      ],
      "metadata": {
        "colab": {
          "base_uri": "https://localhost:8080/"
        },
        "id": "33vRBnvQQlQ0",
        "outputId": "374b2b38-03b7-41b6-8c2a-e21a603cb717"
      },
      "execution_count": null,
      "outputs": [
        {
          "output_type": "stream",
          "name": "stdout",
          "text": [
            "06_square_number\n",
            "Enter any Number and i will give you a Square Value 7\n",
            "The square of 7 is 49 \n"
          ]
        }
      ]
    }
  ]
}