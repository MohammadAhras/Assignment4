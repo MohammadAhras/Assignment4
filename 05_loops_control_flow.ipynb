{
  "nbformat": 4,
  "nbformat_minor": 0,
  "metadata": {
    "colab": {
      "provenance": [],
      "authorship_tag": "ABX9TyODMjvWePipV4mxh9Jg8tWt",
      "include_colab_link": true
    },
    "kernelspec": {
      "name": "python3",
      "display_name": "Python 3"
    },
    "language_info": {
      "name": "python"
    }
  },
  "cells": [
    {
      "cell_type": "markdown",
      "metadata": {
        "id": "view-in-github",
        "colab_type": "text"
      },
      "source": [
        "<a href=\"https://colab.research.google.com/github/MohammadAhras/Assignment4/blob/main/05_loops_control_flow.ipynb\" target=\"_parent\"><img src=\"https://colab.research.google.com/assets/colab-badge.svg\" alt=\"Open In Colab\"/></a>"
      ]
    },
    {
      "cell_type": "code",
      "execution_count": 1,
      "metadata": {
        "colab": {
          "base_uri": "https://localhost:8080/"
        },
        "id": "S4cDNV-7Fe9E",
        "outputId": "91119b14-13cd-4f99-df41-72de9bf3d084"
      },
      "outputs": [
        {
          "output_type": "stream",
          "name": "stdout",
          "text": [
            "00_guess_my_number\n",
            "I am thinking of a number between 1 and 100...\n",
            "Enter a Guess: 20\n",
            "Your guess is to low.\n",
            "Enter a Guess: 59\n",
            "Your guess is to high.\n",
            "Enter a Guess: 55\n",
            "Your guess is to high.\n",
            "Enter a Guess: 53\n",
            "Your guess is to high.\n",
            "Enter a Guess: 52\n",
            "Your guess is to high.\n",
            "Enter a Guess: 50\n",
            "Your guess is to high.\n",
            "Enter a Guess: 51\n",
            "Your guess is to high.\n",
            "Enter a Guess: 52\n",
            "Your guess is to high.\n",
            "Enter a Guess: 40\n",
            "Your guess is to high.\n",
            "Enter a Guess: 44\n",
            "Your guess is to high.\n",
            "Enter a Guess: 35\n",
            "Your guess is to high.\n",
            "Enter a Guess: 25\n",
            "Your guess is to high.\n",
            "Enter a Guess: 22\n",
            "Your guess is to high.\n",
            "Enter a Guess: 10\n",
            "Your guess is to low.\n",
            "Enter a Guess: 16\n",
            "Your guess is to low.\n",
            "Enter a Guess: 15\n",
            "Your guess is to low.\n",
            "Enter a Guess: 14\n",
            "Your guess is to low.\n",
            "Enter a Guess: 13\n",
            "Your guess is to low.\n",
            "Enter a Guess: 21\n",
            "Congratulations! The number was 21\n"
          ]
        }
      ],
      "source": [
        "import random\n",
        "print(\"00_guess_my_number\")\n",
        "\n",
        "def main():\n",
        "  print(\"I am thinking of a number between 1 and 100...\")\n",
        "\n",
        "  guess = int(input(\"Enter a Guess: \"))\n",
        "\n",
        "  while guess != secret_number:\n",
        "    if guess < secret_number:\n",
        "      print(\"Your guess is to low.\")\n",
        "    else:\n",
        "      print(\"Your guess is to high.\")\n",
        "    guess = int(input(\"Enter a Guess: \"))\n",
        "\n",
        "  print(f\"Congratulations! The number was {secret_number}\")\n",
        "\n",
        "if __name__ == \"__main__\":\n",
        "  main()"
      ]
    },
    {
      "cell_type": "code",
      "source": [
        "print(\"01_fibonacci\")\n",
        "\n",
        "max_value = 10000\n",
        "\n",
        "def main():\n",
        "  a,b= 0,1\n",
        "  print(a,b, end = \" \")\n",
        "\n",
        "  while True:\n",
        "    c= a+b\n",
        "    if c > max_value:\n",
        "      break\n",
        "    print(c, end = \" \")\n",
        "    a,b = b,c\n",
        "\n",
        "if __name__ == \"__main__\":\n",
        "  main()"
      ],
      "metadata": {
        "colab": {
          "base_uri": "https://localhost:8080/"
        },
        "id": "lQtnb3KXHwYR",
        "outputId": "065a8552-0538-411c-8cd2-aa41a87be031"
      },
      "execution_count": 2,
      "outputs": [
        {
          "output_type": "stream",
          "name": "stdout",
          "text": [
            "01_fibonacci\n",
            "0 1 1 2 3 5 8 13 21 34 55 89 144 233 377 610 987 1597 2584 4181 6765 "
          ]
        }
      ]
    },
    {
      "cell_type": "code",
      "source": [
        "print(\"02_print_events\")\n",
        "\n",
        "def main():\n",
        "  for i in range(20):\n",
        "   print(i*2)\n",
        "\n",
        "if __name__ == \"__main__\":\n",
        "  main()"
      ],
      "metadata": {
        "colab": {
          "base_uri": "https://localhost:8080/"
        },
        "id": "4g8-9mKgIgJ8",
        "outputId": "83699b00-6ccc-4d7c-cda7-63fce20f6de0"
      },
      "execution_count": 6,
      "outputs": [
        {
          "output_type": "stream",
          "name": "stdout",
          "text": [
            "02_print_events\n",
            "0\n",
            "2\n",
            "4\n",
            "6\n",
            "8\n",
            "10\n",
            "12\n",
            "14\n",
            "16\n",
            "18\n",
            "20\n",
            "22\n",
            "24\n",
            "26\n",
            "28\n",
            "30\n",
            "32\n",
            "34\n",
            "36\n",
            "38\n"
          ]
        }
      ]
    },
    {
      "cell_type": "code",
      "source": [
        "print(\"03_wholesome_machine\")\n",
        "\n",
        "correct_affirmation = \"I am capable of doing anything. I put my mind too.\"\n",
        "\n",
        "def main():\n",
        "  print(\"Welcome to the Wholesome Machine\")\n",
        "  while True:\n",
        "   user_input = input(\"Please type the following affermation: \\n\" + correct_affirmation + \"\\n\")\n",
        "   if user_input == correct_affirmation:\n",
        "      print(\"That's Right!\")\n",
        "  else:\n",
        "      print(\"Hmmm That's was not a affirmation Wrong! Please try again\")\n",
        "\n",
        "if __name__ == \"__main__\":\n",
        "  main()\n",
        "\n"
      ],
      "metadata": {
        "id": "Pa9GJN_9I6QP"
      },
      "execution_count": null,
      "outputs": []
    },
    {
      "cell_type": "code",
      "source": [
        "print(\"04_liftoff\")\n",
        "\n",
        "def main():\n",
        "  for i in range(10,0,-1):\n",
        "    print(i, end = \" \")\n",
        "  print(\"Liftoff!\")\n",
        "\n",
        "if __name__ == \"__main__\":\n",
        "  main()"
      ],
      "metadata": {
        "colab": {
          "base_uri": "https://localhost:8080/"
        },
        "id": "bubVuMQEKixS",
        "outputId": "6e59c167-4239-4976-956b-87ea92555cad"
      },
      "execution_count": 1,
      "outputs": [
        {
          "output_type": "stream",
          "name": "stdout",
          "text": [
            "04_liftoff\n",
            "10 9 8 7 6 5 4 3 2 1 Liftoff!\n"
          ]
        }
      ]
    },
    {
      "cell_type": "code",
      "source": [
        "print(\"05_double_it\")\n",
        "\n",
        "def main():\n",
        "  user_value = int(input(\"Enter a number: \"))\n",
        "  while user_value < 100:\n",
        "    user_value = user_value * 2\n",
        "    print(user_value)\n",
        "\n",
        "if __name__ == \"__main__\":\n",
        "  main()\n"
      ],
      "metadata": {
        "colab": {
          "base_uri": "https://localhost:8080/"
        },
        "id": "zReEMQa6LSkU",
        "outputId": "211d812b-29c0-492f-c384-d5dc22d7a352"
      },
      "execution_count": 6,
      "outputs": [
        {
          "output_type": "stream",
          "name": "stdout",
          "text": [
            "05_double_it\n",
            "Enter a number: 5\n",
            "10\n",
            "20\n",
            "40\n",
            "80\n",
            "160\n"
          ]
        }
      ]
    }
  ]
}