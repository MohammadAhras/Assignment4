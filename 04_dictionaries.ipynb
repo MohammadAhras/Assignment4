{
  "nbformat": 4,
  "nbformat_minor": 0,
  "metadata": {
    "colab": {
      "provenance": [],
      "authorship_tag": "ABX9TyNI0Ga/FWq2hz3tRE+fpw7N",
      "include_colab_link": true
    },
    "kernelspec": {
      "name": "python3",
      "display_name": "Python 3"
    },
    "language_info": {
      "name": "python"
    }
  },
  "cells": [
    {
      "cell_type": "markdown",
      "metadata": {
        "id": "view-in-github",
        "colab_type": "text"
      },
      "source": [
        "<a href=\"https://colab.research.google.com/github/MohammadAhras/Assignment4/blob/main/04_dictionaries.ipynb\" target=\"_parent\"><img src=\"https://colab.research.google.com/assets/colab-badge.svg\" alt=\"Open In Colab\"/></a>"
      ]
    },
    {
      "cell_type": "code",
      "execution_count": 7,
      "metadata": {
        "colab": {
          "base_uri": "https://localhost:8080/"
        },
        "id": "7_HyeFAkobVB",
        "outputId": "64837af2-319a-4530-e17e-9339500efbe4"
      },
      "outputs": [
        {
          "output_type": "stream",
          "name": "stdout",
          "text": [
            "00_count_nums\n",
            "Enter a number (or just press Enter to finish): 11\n",
            "Enter a number (or just press Enter to finish): 12\n",
            "Enter a number (or just press Enter to finish): 13\n",
            "Enter a number (or just press Enter to finish): 14\n",
            "Enter a number (or just press Enter to finish): 15\n",
            "Enter a number (or just press Enter to finish): exit\n",
            "Invalid input. Please enter a valid number.\n",
            "Enter a number (or just press Enter to finish): 11\n",
            "Enter a number (or just press Enter to finish): 1\n",
            "Enter a number (or just press Enter to finish): 33\n",
            "Enter a number (or just press Enter to finish): 11\n",
            "Enter a number (or just press Enter to finish): 33\n",
            "Enter a number (or just press Enter to finish): exit\n",
            "Invalid input. Please enter a valid number.\n",
            "Enter a number (or just press Enter to finish): \n",
            "\n",
            "Number Counts:\n",
            "11 appears 3 times.\n",
            "12 appears 1 times.\n",
            "13 appears 1 times.\n",
            "14 appears 1 times.\n",
            "15 appears 1 times.\n",
            "1 appears 1 times.\n",
            "33 appears 2 times.\n"
          ]
        }
      ],
      "source": [
        "print(\"00_count_nums\")\n",
        "\n",
        "def count_numbers():\n",
        "    count_dict = {}\n",
        "\n",
        "    while True:\n",
        "        num = input(\"Enter a number (or just press Enter to finish): \")\n",
        "        if num == \"\":\n",
        "            break\n",
        "        if num.isdigit():\n",
        "            num = int(num)\n",
        "            count_dict[num] = count_dict.get(num, 0) + 1\n",
        "        else:\n",
        "            print(\"Invalid input. Please enter a valid number.\")\n",
        "\n",
        "    return count_dict\n",
        "\n",
        "def display_counts(count_dict):\n",
        "    print(\"\\nNumber Counts:\")\n",
        "    for key, value in count_dict.items():\n",
        "        print(f\"{key} appears {value} times.\")\n",
        "\n",
        "if __name__ == \"__main__\":\n",
        "    counts = count_numbers()\n",
        "    display_counts(counts)\n"
      ]
    },
    {
      "cell_type": "code",
      "source": [
        "print(\"01_phonebook\")\n",
        "\n",
        "def create_phonebook():\n",
        "  name = input(\"Enter a Contact name: \")\n",
        "  number = input(\"Enter a Contact number: \")\n",
        "\n",
        "  if name in phonebook:\n",
        "    print(f\"{name} already exists in the phonebook.\")\n",
        "  else:\n",
        "    phonebook[name] = number\n",
        "    print(f\"{name} has been added to the phonebook.\")\n",
        "\n",
        "def search_contact (phonebook):\n",
        "  name = input(\"Enter a Contact name to search: \")\n",
        "\n",
        "  if name in phonebook:\n",
        "    print(f\"{name}'s number is {phonebook[name]}.\")\n",
        "  else:\n",
        "    print(f\"{name} is not in the phonebook.\")\n",
        "\n",
        "def delete_contact(phonebook):\n",
        "  name = input(\"Enter a Contact Name to delete: \")\n",
        "  if name in phonebook:\n",
        "    del phonebook[name]\n",
        "    print(f\"{name} has been deleted from the phonebook.\")\n",
        "  else:\n",
        "    print(f\"{name} is not in the phonebook.\")\n",
        "\n",
        "def display_contacts(phonebook):\n",
        "  if phonebook:\n",
        "    print(\"\\nContacts in the phonebook:\")\n",
        "    for name, number in phonebook.items():\n",
        "      print(f\"{name}: {number}\")\n",
        "  else:\n",
        "    print(\"The phonebook is empty.\")\n",
        "\n",
        "if __name__ == \"__main__\":\n",
        "  phonebook = {}\n",
        "\n",
        "while True:\n",
        "  print(\"\\n Phonebook Menu:\")\n",
        "  print(\"1. Create a new contact\")\n",
        "  print(\"2. Search for a contact\")\n",
        "  print(\"3. Delete a contact\")\n",
        "  print(\"4. Display all contacts\")\n",
        "  print(\"5. Quit\")\n",
        "\n",
        "  choice = input(\"Enter your choice (1-5): \")\n",
        "\n",
        "  if choice == \"1\":\n",
        "    create_phonebook()\n",
        "  elif choice == \"2\":\n",
        "    search_contact(phonebook)\n",
        "  elif choice == \"3\":\n",
        "    delete_contact(phonebook)\n",
        "  elif choice == \"4\":\n",
        "    display_contacts(phonebook)\n",
        "  elif choice == \"5\":\n",
        "    print(\"Exiting phonebook Goodbye!\")\n",
        "    break\n",
        "  else:\n",
        "    print(\"Invalid choice. Please enter a number between 1 and 5.\")\n",
        "\n",
        "\n",
        ""
      ],
      "metadata": {
        "colab": {
          "base_uri": "https://localhost:8080/"
        },
        "id": "by04RW9V555S",
        "outputId": "203b8e4b-046a-41cf-a148-311bbfb6b7e2"
      },
      "execution_count": 10,
      "outputs": [
        {
          "output_type": "stream",
          "name": "stdout",
          "text": [
            "01_phonebook\n",
            "\n",
            " Phonebook Menu:\n",
            "1. Create a new contact\n",
            "2. Search for a contact\n",
            "3. Delete a contact\n",
            "4. Display all contacts\n",
            "5. Quit\n",
            "Enter your choice (1-5): 1\n",
            "Enter a Contact name: Asad\n",
            "Enter a Contact number: 0300220202\n",
            "Asad has been added to the phonebook.\n",
            "\n",
            " Phonebook Menu:\n",
            "1. Create a new contact\n",
            "2. Search for a contact\n",
            "3. Delete a contact\n",
            "4. Display all contacts\n",
            "5. Quit\n",
            "Enter your choice (1-5): 2\n",
            "Enter a Contact name to search: Asad\n",
            "Asad's number is 0300220202.\n",
            "\n",
            " Phonebook Menu:\n",
            "1. Create a new contact\n",
            "2. Search for a contact\n",
            "3. Delete a contact\n",
            "4. Display all contacts\n",
            "5. Quit\n",
            "Enter your choice (1-5): 3\n",
            "Enter a Contact Name to delete: Asad\n",
            "Asad has been deleted from the phonebook.\n",
            "\n",
            " Phonebook Menu:\n",
            "1. Create a new contact\n",
            "2. Search for a contact\n",
            "3. Delete a contact\n",
            "4. Display all contacts\n",
            "5. Quit\n",
            "Enter your choice (1-5): 4\n",
            "The phonebook is empty.\n",
            "\n",
            " Phonebook Menu:\n",
            "1. Create a new contact\n",
            "2. Search for a contact\n",
            "3. Delete a contact\n",
            "4. Display all contacts\n",
            "5. Quit\n",
            "Enter your choice (1-5): 5\n",
            "Exiting phonebook Goodbye!\n"
          ]
        }
      ]
    },
    {
      "cell_type": "code",
      "source": [
        "print(\"02_pop_up_shop\")\n",
        "\n",
        "def calculate_total_price():\n",
        "  fruits_price = {\n",
        "      \"apple\" : 5.0,\n",
        "      \"Mango\" : 10.0,\n",
        "      \"banana\" : 3.0,\n",
        "      \"kiwi\" : 8.0,\n",
        "      \"orange\" : 6.0,\n",
        "      \"pineapple\" : 12.0,\n",
        "  }\n",
        "  total_cost = 0\n",
        "  for fruits,price in fruits_price.items():\n",
        "    while True:\n",
        "      try:\n",
        "        quantity = int(input(f\"How many {fruits} do you want to buy: \"))\n",
        "        if quantity < 0:\n",
        "          print(\"Invalid input. Please enter a non-negative number.\")\n",
        "          continue\n",
        "        total_cost += price * quantity\n",
        "        break\n",
        "      except ValueError:\n",
        "        print(\"Invalid input. Please enter a valid number.\")\n",
        "\n",
        "    print(f\"Total cost of fruits: ${total_cost:.2f}\")\n",
        "\n",
        "if __name__ == \"__main__\":\n",
        "  calculate_total_price()"
      ],
      "metadata": {
        "colab": {
          "base_uri": "https://localhost:8080/"
        },
        "id": "jh0n-6xU-Llf",
        "outputId": "c02eb7eb-3c13-4b17-cfd2-984f38dbc536"
      },
      "execution_count": 12,
      "outputs": [
        {
          "output_type": "stream",
          "name": "stdout",
          "text": [
            "02_pop_up_shop\n",
            "How many apple do you want to buy: 3\n",
            "Total cost of fruits: $15.00\n",
            "How many Mango do you want to buy: 5\n",
            "Total cost of fruits: $65.00\n",
            "How many banana do you want to buy: 4\n",
            "Total cost of fruits: $77.00\n",
            "How many kiwi do you want to buy: 5\n",
            "Total cost of fruits: $117.00\n",
            "How many orange do you want to buy: 1\n",
            "Total cost of fruits: $123.00\n",
            "How many pineapple do you want to buy: 4\n",
            "Total cost of fruits: $171.00\n"
          ]
        }
      ]
    },
    {
      "cell_type": "code",
      "source": [
        "import hashlib\n",
        "print(\"03_powerful_passwords\")\n",
        "\n",
        "def hash_passwords(password):\n",
        "  return hashlib.sha256(password.encode()).hexdigest()\n",
        "\n",
        "stored_logins = {\n",
        "    \"user@example.com\": hash_passwords(\"password123\"),\n",
        "    \"user2@example.com\": hash_passwords(\"password123\"),\n",
        "}\n",
        "def login(emails,password):\n",
        "    if email in stored_logins:\n",
        "        return stored_logins[email] == hash_passwords(password)\n",
        "    return False\n",
        "\n",
        "if __name__ == \"__main__\":\n",
        "    email = input(\"Enter your email: \")\n",
        "    password = input(\"Enter your password: \")\n",
        "\n",
        "    if login(email, password):\n",
        "        print(\"Login successful!\")\n",
        "    else:\n",
        "        print(\"Invalid email or password.\")\n",
        ""
      ],
      "metadata": {
        "colab": {
          "base_uri": "https://localhost:8080/"
        },
        "id": "NG6XSzy8Bdjw",
        "outputId": "520855a5-c65a-42cc-8bdb-9bf55bd33911"
      },
      "execution_count": 16,
      "outputs": [
        {
          "output_type": "stream",
          "name": "stdout",
          "text": [
            "03_powerful_passwords\n",
            "Enter your email: user@example.com\n",
            "Enter your password: password123\n",
            "Login successful!\n"
          ]
        }
      ]
    }
  ]
}