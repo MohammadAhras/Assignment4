{
  "nbformat": 4,
  "nbformat_minor": 0,
  "metadata": {
    "colab": {
      "provenance": [],
      "authorship_tag": "ABX9TyPo8b+DZh7nfNDK8he0f3Xt",
      "include_colab_link": true
    },
    "kernelspec": {
      "name": "python3",
      "display_name": "Python 3"
    },
    "language_info": {
      "name": "python"
    }
  },
  "cells": [
    {
      "cell_type": "markdown",
      "metadata": {
        "id": "view-in-github",
        "colab_type": "text"
      },
      "source": [
        "<a href=\"https://colab.research.google.com/github/MohammadAhras/Assignment4/blob/main/02_intermediate.ipynb\" target=\"_parent\"><img src=\"https://colab.research.google.com/assets/colab-badge.svg\" alt=\"Open In Colab\"/></a>"
      ]
    },
    {
      "cell_type": "code",
      "execution_count": 4,
      "metadata": {
        "colab": {
          "base_uri": "https://localhost:8080/"
        },
        "id": "MPKlu9WYWf2b",
        "outputId": "c49396f1-3e17-454d-d212-52429c7aaf49"
      },
      "outputs": [
        {
          "output_type": "stream",
          "name": "stdout",
          "text": [
            "High Low Game\n",
            "Welcome to the High Low Game\n",
            "**********\n",
            "Round 1\n",
            "Your Number is:  28\n",
            "Do you think your Higher or lower number than the computer? higher\n",
            "You were Right! the computer's number was 3\n",
            "Your Score is now 1\n",
            "******\n",
            "Round 2\n",
            "Your Number is:  48\n",
            "Do you think your Higher or lower number than the computer? lower\n",
            "That's incorrect the computer's number was 46\n",
            "Your Score is now 1\n",
            "******\n",
            "Round 3\n",
            "Your Number is:  70\n",
            "Do you think your Higher or lower number than the computer? higher\n",
            "You were Right! the computer's number was 3\n",
            "Your Score is now 2\n",
            "******\n",
            "Round 4\n",
            "Your Number is:  70\n",
            "Do you think your Higher or lower number than the computer? lower\n",
            "You were Right! the computer's number was 86\n",
            "Your Score is now 3\n",
            "******\n",
            "Round 5\n",
            "Your Number is:  97\n",
            "Do you think your Higher or lower number than the computer? higher\n",
            "You were Right! the computer's number was 49\n",
            "Your Score is now 4\n",
            "******\n",
            "Thanks for playing!\n"
          ]
        }
      ],
      "source": [
        "import random\n",
        "print(\"High Low Game\")\n",
        "\n",
        "def main():\n",
        "  print(\"Welcome to the High Low Game\")\n",
        "  print(\"**********\")\n",
        "  #Added a variable called rounds to determine the number of rounds\n",
        "  rounds = 5 # You can change the number of rounds\n",
        "  your_score = 0\n",
        "  # changed round to rounds\n",
        "  for i in range(rounds):\n",
        "    print(\"Round\", i + 1)\n",
        "\n",
        "    computer_number: int = random.randint(1,100)\n",
        "    your_number: int = random.randint(1,100)\n",
        "    print(\"Your Number is: \", your_number)\n",
        "\n",
        "    choice:str = input(\"Do you think your Higher or lower number than the computer? \")\n",
        "    higher_and_correct:bool = choice == \"higher\" and your_number > computer_number\n",
        "    lower_and_correct:bool = choice == \"lower\" and your_number < computer_number\n",
        "\n",
        "    if higher_and_correct or lower_and_correct:\n",
        "      print(\"You were Right! the computer\\'s number was\", computer_number)\n",
        "      # Changed score to your_score, as score was not defined\n",
        "      your_score +=1\n",
        "    else:\n",
        "      print(\"That\\'s incorrect the computer\\'s number was\", computer_number)\n",
        "\n",
        "    print(\"Your Score is now\",your_score)\n",
        "    print(\"******\")\n",
        "\n",
        "  print(\"Thanks for playing!\")\n",
        "\n",
        "if __name__ == \"__main__\":\n",
        "  main()"
      ]
    },
    {
      "cell_type": "code",
      "source": [
        "print(\"Planetary Weight Calculator\")\n",
        "\n",
        "def main():\n",
        "  print(\"Welcome to the Planetary Weight Calculator\")\n",
        "  print(\"*************\")\n",
        "\n",
        "  earth_weight = float(input(\"Enter your weight on Earth: \"))\n",
        "\n",
        "  gravity = {\n",
        "    \"Mercury\": 0.38,\n",
        "    \"Venus\": 0.91,\n",
        "    \"Mars\": 0.38,\n",
        "    \"Jupiter\": 2.34,\n",
        "    \"Saturn\": 0.93,\n",
        "    \"Uranus\": 0.92,\n",
        "    \"Neptune\": 1.19,\n",
        "  }\n",
        "\n",
        "  print(\"\\n Select a planet\")\n",
        "  # Changed gravity_ratios to gravity\n",
        "  for planet in gravity:\n",
        "    print(f'- {planet}')\n",
        "\n",
        "  planet_choice = input('Enter the name of the Planet: ').title()\n",
        "  # Changed gravity_ratios to gravity\n",
        "  if planet_choice in gravity:\n",
        "    new_weight = earth_weight * gravity[planet_choice]\n",
        "    print(f\"your weight on {planet_choice} is {new_weight:.2f}kg\")\n",
        "  else:\n",
        "    print(\"Invalid planet choice\")\n",
        "\n",
        "if __name__ == \"__main__\":\n",
        "  main()"
      ],
      "metadata": {
        "id": "IVa9Onvqa9Qg",
        "outputId": "17bf4796-d110-4c00-b6d1-ff2d82ea055d",
        "colab": {
          "base_uri": "https://localhost:8080/"
        }
      },
      "execution_count": 8,
      "outputs": [
        {
          "output_type": "stream",
          "name": "stdout",
          "text": [
            "Planetary Weight Calculator\n",
            "Welcome to the Planetary Weight Calculator\n",
            "*************\n",
            "Enter your weight on Earth: 23\n",
            "\n",
            " Select a planet\n",
            "- Mercury\n",
            "- Venus\n",
            "- Mars\n",
            "- Jupiter\n",
            "- Saturn\n",
            "- Uranus\n",
            "- Neptune\n",
            "Enter the name of the Planet: mars\n",
            "your weight on Mars is 8.74kg\n"
          ]
        }
      ]
    },
    {
      "cell_type": "code",
      "source": [
        "def list_game():\n",
        "  print(\"\\n Welcome to the List manipulation\")\n",
        "  print(\"*************\")\n",
        "\n",
        "  my_list = [\"Apple\", \"Banana\",\"Mango\", \"Peace\",\"Orange\"]\n",
        "\n",
        "  while True:\n",
        "    print(\"current list\", my_list)\n",
        "\n",
        "    print(\"Select an operation:\")\n",
        "    print(\"1. Access Element\")\n",
        "    print(\"2. Modify Element\")\n",
        "    print(\"3. Slice List\")\n",
        "    print(\"4. Quit\")\n",
        "\n",
        "    choice = input(\"Enter your choice (1/2/3/4): \")\n",
        "\n",
        "    if choice == '1': # This block and the following blocks were incorrectly indented. Fixed by reducing indentation to align with the while loop\n",
        "      index = input(\"Enter the index to access: \")\n",
        "      try:\n",
        "          index = int(index)  # Try to convert index to an integer\n",
        "          print(access_element(my_list, index))\n",
        "      except ValueError:\n",
        "          print(\"Invalid index. Please enter a number.\")\n",
        "    elif choice == '2':\n",
        "      index = input(\"Enter the index to modify: \")\n",
        "      try:\n",
        "          index = int(index)  # Try to convert index to an integer\n",
        "          new_value = input(\"Enter the new value for the element: \")\n",
        "          print(modify_element(my_list, index, new_value))\n",
        "      except ValueError:\n",
        "          print(\"Invalid index. Please enter a number.\")\n",
        "    elif choice == '3':\n",
        "      start_index = input(\"Enter the start index for slicing: \")\n",
        "      end_index = input(\"Enter the end index for slicing: \")\n",
        "      try:\n",
        "          start_index = int(start_index)  # Try to convert start_index to an integer\n",
        "          end_index = int(end_index)  # Try to convert end_index to an integer\n",
        "          print(slice_list(my_list, start_index, end_index))\n",
        "      except ValueError:\n",
        "          print(\"Invalid index. Please enter numbers for start and end indices.\")\n",
        "    elif choice == '4':\n",
        "      print(\"Existing the game, Thanks for playing\")\n",
        "      break\n",
        "    else:\n",
        "      print(\"Invalid choice. Please select a valid option (1/2/3/4).\")\n",
        "\n",
        "if __name__ == \"__main__\":\n",
        "  list_game()"
      ],
      "metadata": {
        "id": "C6gec98bfWqO",
        "outputId": "9bee2f7e-c939-4a4c-96db-71466c7fe434",
        "colab": {
          "base_uri": "https://localhost:8080/"
        }
      },
      "execution_count": 18,
      "outputs": [
        {
          "output_type": "stream",
          "name": "stdout",
          "text": [
            "\n",
            " Welcome to the List manipulation\n",
            "*************\n",
            "current list ['Apple', 'Banana', 'Mango', 'Peace', 'Orange']\n",
            "Select an operation:\n",
            "1. Access Element\n",
            "2. Modify Element\n",
            "3. Slice List\n",
            "4. Quit\n",
            "Enter your choice (1/2/3/4): 1\n",
            "Enter the index to access: 4\n",
            "Element at index 4: Orange\n",
            "current list ['Apple', 'Banana', 'Mango', 'Peace', 'Orange']\n",
            "Select an operation:\n",
            "1. Access Element\n",
            "2. Modify Element\n",
            "3. Slice List\n",
            "4. Quit\n",
            "Enter your choice (1/2/3/4): 2\n",
            "Enter the index to modify: banana\n",
            "Invalid index. Please enter a number.\n",
            "current list ['Apple', 'Banana', 'Mango', 'Peace', 'Orange']\n",
            "Select an operation:\n",
            "1. Access Element\n",
            "2. Modify Element\n",
            "3. Slice List\n",
            "4. Quit\n",
            "Enter your choice (1/2/3/4): 1\n",
            "Enter the index to access: 4\n",
            "Element at index 4: Orange\n",
            "current list ['Apple', 'Banana', 'Mango', 'Peace', 'Orange']\n",
            "Select an operation:\n",
            "1. Access Element\n",
            "2. Modify Element\n",
            "3. Slice List\n",
            "4. Quit\n",
            "Enter your choice (1/2/3/4): 2\n",
            "Enter the index to modify: 1\n",
            "Enter the new value for the element: grapes\n",
            "Element at index 1 modified from Banana to grapes\n",
            "current list ['Apple', 'grapes', 'Mango', 'Peace', 'Orange']\n",
            "Select an operation:\n",
            "1. Access Element\n",
            "2. Modify Element\n",
            "3. Slice List\n",
            "4. Quit\n",
            "Enter your choice (1/2/3/4): 4\n",
            "Existing the game, Thanks for playing\n"
          ]
        }
      ]
    }
  ]
}