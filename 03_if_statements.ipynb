{
  "nbformat": 4,
  "nbformat_minor": 0,
  "metadata": {
    "colab": {
      "provenance": [],
      "authorship_tag": "ABX9TyM5TcoVKPx0M6xz7QymQcvR",
      "include_colab_link": true
    },
    "kernelspec": {
      "name": "python3",
      "display_name": "Python 3"
    },
    "language_info": {
      "name": "python"
    }
  },
  "cells": [
    {
      "cell_type": "markdown",
      "metadata": {
        "id": "view-in-github",
        "colab_type": "text"
      },
      "source": [
        "<a href=\"https://colab.research.google.com/github/MohammadAhras/Assignment4/blob/main/03_if_statements.ipynb\" target=\"_parent\"><img src=\"https://colab.research.google.com/assets/colab-badge.svg\" alt=\"Open In Colab\"/></a>"
      ]
    },
    {
      "cell_type": "code",
      "execution_count": null,
      "metadata": {
        "colab": {
          "base_uri": "https://localhost:8080/"
        },
        "id": "1glh3aHKkZ7N",
        "outputId": "13852634-0814-4569-c4db-46d70c2a9aec"
      },
      "outputs": [
        {
          "output_type": "stream",
          "name": "stdout",
          "text": [
            "01_print_events\n",
            "Here is 20 even numbers are:  0\n",
            "Here is 20 even numbers are:  2\n",
            "Here is 20 even numbers are:  4\n",
            "Here is 20 even numbers are:  6\n",
            "Here is 20 even numbers are:  8\n",
            "Here is 20 even numbers are:  10\n",
            "Here is 20 even numbers are:  12\n",
            "Here is 20 even numbers are:  14\n",
            "Here is 20 even numbers are:  16\n",
            "Here is 20 even numbers are:  18\n",
            "Here is 20 even numbers are:  20\n",
            "Here is 20 even numbers are:  22\n",
            "Here is 20 even numbers are:  24\n",
            "Here is 20 even numbers are:  26\n",
            "Here is 20 even numbers are:  28\n",
            "Here is 20 even numbers are:  30\n",
            "Here is 20 even numbers are:  32\n",
            "Here is 20 even numbers are:  34\n",
            "Here is 20 even numbers are:  36\n",
            "Here is 20 even numbers are:  38\n"
          ]
        }
      ],
      "source": [
        "print(\"01_print_events\")\n",
        "\n",
        "def even():\n",
        "  for i in range(20):\n",
        "    print(\"Here is 20 even numbers are: \", i * 2)\n",
        "\n",
        "\n",
        "if __name__ == \"__main__\":\n",
        "  even()"
      ]
    },
    {
      "cell_type": "code",
      "source": [
        "print(\"02_international_voting_age\")\n",
        "\n",
        "Pakistan: int = 18\n",
        "Malaysia: int = 20\n",
        "Mayenga: int = 22\n",
        "age: int = int(input(\"How old are you? \"))\n",
        "\n",
        "def main():\n",
        "  # Get input from the user and convert it to an integer\n",
        "\n",
        "  if age >= Malaysia:\n",
        "    print(f\"Your age is {age}. you're eligible to vote in Malaysia!\")\n",
        "  else:\n",
        "    print(f\"You are age is {age}. you're not eligible to vote in Malaysia!\")\n",
        "\n",
        "    if age >= Mayenga:\n",
        "      print(f\"Your age is {age}. you're eligible to vote in Mayenga!\")\n",
        "    else:\n",
        "      print(f\"You are age is {age}. you're not eligible to vote in Mayenga!\")\n",
        "\n",
        "  if age >= Pakistan:\n",
        "    print(f\"Your age is {age}. you're eligible to vote in Pakistan!\")\n",
        "  else:\n",
        "    print(f\"You are age is {age}. you're not eligible to vote in Pakistan!\")\n",
        "\n",
        "if __name__ == \"__main__\":\n",
        "  main()\n",
        "\n",
        "\n"
      ],
      "metadata": {
        "colab": {
          "base_uri": "https://localhost:8080/"
        },
        "id": "6iTHzAbbmOGN",
        "outputId": "44b0e353-af63-4a6e-df99-c1928b6e1dfb"
      },
      "execution_count": null,
      "outputs": [
        {
          "output_type": "stream",
          "name": "stdout",
          "text": [
            "02_international_voting_age\n",
            "How old are you? 33\n",
            "Your age is 33. you're eligible to vote in Malaysia!\n",
            "Your age is 33. you're eligible to vote in Pakistan!\n"
          ]
        }
      ]
    },
    {
      "cell_type": "code",
      "source": [
        "print(\"03_leap_year\")\n",
        "\n",
        "def leap_yer():\n",
        "  year: int = int(input(\"Enter a year: \"))\n",
        "  if (year % 4 == 0 and year % 100 != 0) or (year % 400 == 0):\n",
        "    print(f'{year} is a leap year')\n",
        "  else:\n",
        "    print(f'{year} is not a leap year. ')\n",
        "\n",
        "if __name__ == \"__main__\":\n",
        "  leap_yer()"
      ],
      "metadata": {
        "id": "UU45UcfHqXdO",
        "colab": {
          "base_uri": "https://localhost:8080/"
        },
        "outputId": "30e37868-258b-4922-9e13-34d730421aea"
      },
      "execution_count": 21,
      "outputs": [
        {
          "output_type": "stream",
          "name": "stdout",
          "text": [
            "03_leap_year\n",
            "Enter a year: 2036\n",
            "2036 is a leap year\n"
          ]
        }
      ]
    },
    {
      "cell_type": "code",
      "source": [
        "print(\"04_tall_enough_to_ride\")\n",
        "\n",
        "MINIMUM_HEIGHT:int = 50\n",
        "def main():\n",
        "  user:int =int(input(\"How tall are you? \"))\n",
        "  if user >= MINIMUM_HEIGHT:\n",
        "    print(\"You are tall enough to ride!\")\n",
        "  else:\n",
        "    print(\"You are not tall enough to ride. May be next year.\")\n",
        "\n",
        "if __name__ == \"__main__\":\n",
        "  main()"
      ],
      "metadata": {
        "id": "HTnYiaQ1a9OE",
        "outputId": "cb9609c3-ed94-4451-bde2-4b915d3eae84",
        "colab": {
          "base_uri": "https://localhost:8080/"
        }
      },
      "execution_count": 30,
      "outputs": [
        {
          "output_type": "stream",
          "name": "stdout",
          "text": [
            "04_tall_enough_to_ride\n",
            "How tall are you? 50\n",
            "You are tall enough to ride!\n"
          ]
        }
      ]
    },
    {
      "cell_type": "code",
      "source": [
        "print(\"05_random_numbers\")\n",
        "import random\n",
        "\n",
        "numbers: int = 10\n",
        "\n",
        "def main():\n",
        "  for i in range(10):\n",
        "    num:list[int]= random.randint(1,100)\n",
        "    print(num)\n",
        "\n",
        "if __name__ == \"__main__\":\n",
        "  main()"
      ],
      "metadata": {
        "id": "DZ-BSmyndY-U",
        "outputId": "31edf083-2df7-4d50-e0f5-e10081b15b3b",
        "colab": {
          "base_uri": "https://localhost:8080/"
        }
      },
      "execution_count": 32,
      "outputs": [
        {
          "output_type": "stream",
          "name": "stdout",
          "text": [
            "05_random_numbers\n",
            "90\n",
            "6\n",
            "92\n",
            "10\n",
            "54\n",
            "39\n",
            "90\n",
            "35\n",
            "95\n",
            "37\n"
          ]
        }
      ]
    }
  ]
}