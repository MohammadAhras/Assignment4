{
  "nbformat": 4,
  "nbformat_minor": 0,
  "metadata": {
    "colab": {
      "provenance": [],
      "authorship_tag": "ABX9TyNz46zBWVPUstzUZ4M+80+G",
      "include_colab_link": true
    },
    "kernelspec": {
      "name": "python3",
      "display_name": "Python 3"
    },
    "language_info": {
      "name": "python"
    }
  },
  "cells": [
    {
      "cell_type": "markdown",
      "metadata": {
        "id": "view-in-github",
        "colab_type": "text"
      },
      "source": [
        "<a href=\"https://colab.research.google.com/github/MohammadAhras/Assignment4/blob/main/02_lists.ipynb\" target=\"_parent\"><img src=\"https://colab.research.google.com/assets/colab-badge.svg\" alt=\"Open In Colab\"/></a>"
      ]
    },
    {
      "cell_type": "code",
      "execution_count": null,
      "metadata": {
        "colab": {
          "base_uri": "https://localhost:8080/"
        },
        "id": "LwfiqYnP2-OL",
        "outputId": "92eef6c4-1acf-44fd-c807-10c446369107"
      },
      "outputs": [
        {
          "output_type": "stream",
          "name": "stdout",
          "text": [
            "01_add_many_number\n",
            "15\n"
          ]
        }
      ],
      "source": [
        "print(\"01_add_many_number\")\n",
        "\n",
        "def add_numbers(numbers)->int:\n",
        "  num:int =0\n",
        "  for i in numbers:\n",
        "    num += i\n",
        "  return num\n",
        "\n",
        "def main():\n",
        "  numbers:list[int] = [1,2,3,4,5]\n",
        "  sum = add_numbers(numbers)\n",
        "  print(sum)\n",
        "\n",
        "if __name__ == \"__main__\":\n",
        "  main()"
      ]
    },
    {
      "cell_type": "code",
      "source": [
        "from ast import Index\n",
        "print(\"02_double_list\")\n",
        "\n",
        "def main():\n",
        "  numbers:list[int] = [1,2,3,4,5]\n",
        "  for i in range(len(numbers)):\n",
        "    index = numbers[i]\n",
        "    numbers[i] = index * 2\n",
        "    print(numbers)\n",
        "\n",
        "if __name__ == \"__main__\":\n",
        "  main()"
      ],
      "metadata": {
        "colab": {
          "base_uri": "https://localhost:8080/"
        },
        "collapsed": true,
        "id": "L_fRNExY5dK_",
        "outputId": "bdd00706-c82a-4d30-8bf0-5128771dfb94"
      },
      "execution_count": null,
      "outputs": [
        {
          "output_type": "stream",
          "name": "stdout",
          "text": [
            "02_double_list\n",
            "[2, 2, 3, 4, 5]\n",
            "[2, 4, 3, 4, 5]\n",
            "[2, 4, 6, 4, 5]\n",
            "[2, 4, 6, 8, 5]\n",
            "[2, 4, 6, 8, 10]\n"
          ]
        }
      ]
    },
    {
      "cell_type": "code",
      "source": [
        "print(\"04_flowing_with_data_structures\")\n",
        "\n",
        "def add_three_copies(list,data):\n",
        "  for i in range(3):\n",
        "    list.append(data)\n",
        "\n",
        "def main():\n",
        "  message = input(\"Enter a Message to copy.\")\n",
        "  lst = []\n",
        "  print(\"Before List: \", lst)\n",
        "  add_three_copies(lst,message)\n",
        "  print(\"After lst:\", lst)\n",
        "\n",
        "if __name__ == \"__main__\":\n",
        "  main()\n"
      ],
      "metadata": {
        "colab": {
          "base_uri": "https://localhost:8080/"
        },
        "id": "KKFpRbme7GIp",
        "outputId": "c0db4407-52b0-4418-d2b4-7f1183e2de3f"
      },
      "execution_count": null,
      "outputs": [
        {
          "output_type": "stream",
          "name": "stdout",
          "text": [
            "04_flowing_with_data_structures\n",
            "Enter a Message to copy.Welcome to Pakistan\n",
            "Before List:  []\n",
            "After list:  ['Welcome to Pakistan', 'Welcome to Pakistan', 'Welcome to Pakistan']\n"
          ]
        }
      ]
    },
    {
      "cell_type": "code",
      "source": [
        "from typing import List\n",
        "print(\"06_get_first_element\")\n",
        "\n",
        "def get_first_element(lst):\n",
        "  print(lst[0])\n",
        "\n",
        "def get_lst():\n",
        "  lst = []\n",
        "  elem:str = input(\"Enter a number to add this list. \")\n",
        "  while elem !=  \"\":\n",
        "    lst.append(elem)\n",
        "    elem = input(\"Enter a number to add this list. \")\n",
        "  # The return statement was inside the while loop, causing it to exit prematurely.\n",
        "  # Moving it outside the loop allows it to return the complete list.\n",
        "  return lst\n",
        "\n",
        "def main():\n",
        "    lst = get_lst()\n",
        "    get_first_element(lst)\n",
        "\n",
        "if __name__ == \"__main__\":\n",
        "  main()\n"
      ],
      "metadata": {
        "colab": {
          "base_uri": "https://localhost:8080/"
        },
        "id": "dqTbCxPxB1JC",
        "outputId": "32ea9194-d38d-478a-f250-cb87fadde89f"
      },
      "execution_count": 6,
      "outputs": [
        {
          "output_type": "stream",
          "name": "stdout",
          "text": [
            "06_get_first_element\n",
            "Enter a number to add this list. s\n",
            "Enter a number to add this list. f\n",
            "Enter a number to add this list. g\n",
            "Enter a number to add this list. g\n",
            "Enter a number to add this list. t\n",
            "Enter a number to add this list. \n",
            "s\n"
          ]
        }
      ]
    },
    {
      "cell_type": "code",
      "source": [
        "print(\"07_get_list\")\n",
        "\n",
        "def main():\n",
        "    lst = []\n",
        "    val = input(\"Enter a number to add to this list: \")\n",
        "\n",
        "    while val:\n",
        "        lst.append(val)\n",
        "        val = input(\"Enter a Value to add to this list: \")\n",
        "\n",
        "    print(\"Here's the list:\", lst)\n",
        "\n",
        "if __name__ == \"__main__\":\n",
        "    main()\n"
      ],
      "metadata": {
        "colab": {
          "base_uri": "https://localhost:8080/"
        },
        "id": "Z41_sOCDWDwf",
        "outputId": "a66decaf-3813-4d85-b888-faf0b8f1bd3f"
      },
      "execution_count": 3,
      "outputs": [
        {
          "output_type": "stream",
          "name": "stdout",
          "text": [
            "07_get_list\n",
            "Enter a number to add to this list: Ali\n",
            "Enter a Value to add to this list: Rizwan\n",
            "Enter a Value to add to this list: Gul\n",
            "Enter a Value to add to this list: Sana\n",
            "Enter a Value to add to this list: Faiza\n",
            "Enter a Value to add to this list: \n",
            "Here's the list: ['Ali', 'Rizwan', 'Gul', 'Sana', 'Faiza']\n"
          ]
        }
      ]
    },
    {
      "cell_type": "code",
      "source": [
        "print(\"08_shorten\")\n",
        "\n",
        "# Maximum allowed length of the list\n",
        "MAX_LENGTH = 3\n",
        "\n",
        "def shorten(lst):\n",
        "    while len(lst) > MAX_LENGTH:\n",
        "        last_element = lst.pop()\n",
        "        print(\"Removed:\", last_element)\n",
        "\n",
        "def get_lst():\n",
        "    lst = []\n",
        "    element = input(\"Enter an element to add to this list (press Enter to stop): \")\n",
        "    while element != \"\":\n",
        "        lst.append(element)\n",
        "        element = input(\"Enter an element to add to this list (press Enter to stop): \")\n",
        "    return lst\n",
        "\n",
        "def main():\n",
        "    lst = get_lst()\n",
        "    print(\"Original list:\", lst)\n",
        "    shorten(lst)\n",
        "    print(\"Shortened list:\", lst)\n",
        "\n",
        "if __name__ == \"__main__\":\n",
        "    main()\n"
      ],
      "metadata": {
        "colab": {
          "base_uri": "https://localhost:8080/"
        },
        "id": "AmOeeREGYyfg",
        "outputId": "13a21ea6-3e84-4623-85be-34dca8e59010"
      },
      "execution_count": 9,
      "outputs": [
        {
          "output_type": "stream",
          "name": "stdout",
          "text": [
            "08_shorten\n",
            "Enter an element to add to this list (press Enter to stop): a\n",
            "Enter an element to add to this list (press Enter to stop): g\n",
            "Enter an element to add to this list (press Enter to stop): d\n",
            "Enter an element to add to this list (press Enter to stop): e\n",
            "Enter an element to add to this list (press Enter to stop): g\n",
            "Enter an element to add to this list (press Enter to stop): \n",
            "Original list: ['a', 'g', 'd', 'e', 'g']\n",
            "Removed: g\n",
            "Removed: e\n",
            "Shortened list: ['a', 'g', 'd']\n"
          ]
        }
      ]
    }
  ]
}