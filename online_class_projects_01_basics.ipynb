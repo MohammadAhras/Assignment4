{
  "nbformat": 4,
  "nbformat_minor": 0,
  "metadata": {
    "colab": {
      "provenance": [],
      "authorship_tag": "ABX9TyP3hYS5ZyaI+l6UcV+Iitlp",
      "include_colab_link": true
    },
    "kernelspec": {
      "name": "python3",
      "display_name": "Python 3"
    },
    "language_info": {
      "name": "python"
    }
  },
  "cells": [
    {
      "cell_type": "markdown",
      "metadata": {
        "id": "view-in-github",
        "colab_type": "text"
      },
      "source": [
        "<a href=\"https://colab.research.google.com/github/MohammadAhras/Assignment4/blob/main/online_class_projects_01_basics.ipynb\" target=\"_parent\"><img src=\"https://colab.research.google.com/assets/colab-badge.svg\" alt=\"Open In Colab\"/></a>"
      ]
    },
    {
      "cell_type": "code",
      "execution_count": 3,
      "metadata": {
        "colab": {
          "base_uri": "https://localhost:8080/"
        },
        "id": "8huX3afBM9xm",
        "outputId": "76d33ed1-1958-4a64-8eb3-ee3c1d322f78"
      },
      "outputs": [
        {
          "output_type": "stream",
          "name": "stdout",
          "text": [
            "00_joke_bot\n",
            "What do you want?story\n",
            "Sorry i only tell jokes\n"
          ]
        }
      ],
      "source": [
        "print(\"00_joke_bot\")\n",
        "\n",
        "PROMPT: str = \"What do you want?\"\n",
        "JOKE: str = \"Why don’t skeletons fight each other? \\n Because they don’t have the guts. 😄\"\n",
        "SORRY: str = \"Sorry i only tell jokes\"\n",
        "\n",
        "def main():\n",
        "  user_input = input(PROMPT)\n",
        "  user_input = user_input.lower()\n",
        "\n",
        "  if \"joke\" in user_input:\n",
        "    print(JOKE)\n",
        "  else:\n",
        "    print(SORRY)\n",
        "\n",
        "if __name__ == \"__main__\":\n",
        "  main()"
      ]
    },
    {
      "cell_type": "code",
      "source": [
        "print(\"01_double_it\")\n",
        "\n",
        "def main():\n",
        "  user_value = int(input(\"Enter a number: \")) # Changed this line to convert the input to an integer\n",
        "  while user_value < 100:\n",
        "    user_value = user_value * 2\n",
        "    print(user_value)\n",
        "\n",
        "if __name__ == \"__main__\":\n",
        "  main()"
      ],
      "metadata": {
        "colab": {
          "base_uri": "https://localhost:8080/"
        },
        "id": "dk4xht-AQ0bC",
        "outputId": "6a20d05b-593e-4852-b297-dae86422cc87"
      },
      "execution_count": 6,
      "outputs": [
        {
          "output_type": "stream",
          "name": "stdout",
          "text": [
            "01_double_it\n",
            "Enter a number: 4\n",
            "8\n",
            "16\n",
            "32\n",
            "64\n",
            "128\n"
          ]
        }
      ]
    },
    {
      "cell_type": "code",
      "source": [
        "print(\"02_liftoff\")\n",
        "\n",
        "def main():\n",
        "  for i in range(10,0,-1):\n",
        "    print(i, end = \" \")\n",
        "  print(\"Liftoff!\")\n",
        "\n",
        "if __name__ == \"__main__\":\n",
        "  main()"
      ],
      "metadata": {
        "colab": {
          "base_uri": "https://localhost:8080/"
        },
        "id": "Chqb5RTvR1gs",
        "outputId": "2a74ab97-1400-4747-88ea-fa721dda1893"
      },
      "execution_count": 7,
      "outputs": [
        {
          "output_type": "stream",
          "name": "stdout",
          "text": [
            "02_liftoff\n",
            "10 9 8 7 6 5 4 3 2 1 Liftoff!\n"
          ]
        }
      ]
    },
    {
      "cell_type": "code",
      "source": [
        "import random\n",
        "print(\"03_guess_my_number\")\n",
        "\n",
        "def main():\n",
        "  print(\"I am thinking of a number between 1 and 100...\")\n",
        "  # Generate a random number between 1 and 100\n",
        "  secret_number = random.randint(1, 100)\n",
        "  guess = int(input(\"Enter a Guess: \"))\n",
        "\n",
        "  while guess != secret_number:\n",
        "    if guess < secret_number:\n",
        "      print(\"Your guess is to low.\")\n",
        "    else:\n",
        "      print(\"Your guess is to high.\")\n",
        "    guess = int(input(\"Enter a Guess: \"))\n",
        "\n",
        "  print(f\"Congratulations! The number was {secret_number}\")\n",
        "\n",
        "if __name__ == \"__main__\":\n",
        "  main()"
      ],
      "metadata": {
        "colab": {
          "base_uri": "https://localhost:8080/"
        },
        "id": "svT0kLuNSE0o",
        "outputId": "cf3711c8-e146-4c3d-976b-bf84276521c3"
      },
      "execution_count": 9,
      "outputs": [
        {
          "output_type": "stream",
          "name": "stdout",
          "text": [
            "03_guess_my_number\n",
            "I am thinking of a number between 1 and 100...\n",
            "Enter a Guess: 5\n",
            "Your guess is to low.\n",
            "Enter a Guess: 10\n",
            "Your guess is to low.\n",
            "Enter a Guess: 20\n",
            "Your guess is to high.\n",
            "Enter a Guess: 15\n",
            "Your guess is to low.\n",
            "Enter a Guess: 17\n",
            "Congratulations! The number was 17\n"
          ]
        }
      ]
    },
    {
      "cell_type": "code",
      "source": [
        "import random\n",
        "print(\"04_random_numbers\")\n",
        "\n",
        "def main():\n",
        "  for _ in range(10):\n",
        "    print(random.randint(0,100), end=\" \")\n",
        "\n",
        "if __name__ == \"__main__\":\n",
        "  main()"
      ],
      "metadata": {
        "colab": {
          "base_uri": "https://localhost:8080/"
        },
        "id": "VpmFT9uISTEV",
        "outputId": "aeeeb431-7ab6-41d9-f615-321e7aee7f54"
      },
      "execution_count": 11,
      "outputs": [
        {
          "output_type": "stream",
          "name": "stdout",
          "text": [
            "04_random_numbers\n",
            "76 13 53 83 22 75 72 8 90 40 "
          ]
        }
      ]
    }
  ]
}